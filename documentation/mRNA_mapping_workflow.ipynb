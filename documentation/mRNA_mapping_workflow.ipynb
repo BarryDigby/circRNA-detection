{
 "cells": [
  {
   "cell_type": "markdown",
   "metadata": {},
   "source": [
    "# mRNA mapping using SALMON"
   ]
  },
  {
   "cell_type": "markdown",
   "metadata": {},
   "source": [
    "Followed documentation: https://salmon.readthedocs.io/en/latest/building.html"
   ]
  },
  {
   "cell_type": "markdown",
   "metadata": {},
   "source": [
    "## 1. Installation and preparation"
   ]
  },
  {
   "cell_type": "markdown",
   "metadata": {},
   "source": [
    "download references \n",
    "https://www.ensembl.org/info/data/ftp/index.html"
   ]
  },
  {
   "cell_type": "code",
   "execution_count": null,
   "metadata": {},
   "outputs": [],
   "source": [
    "bash generateDecoyTranscriptome.sh -g reference/mm10.fa\n",
    " -t reference/Mus_musculus.GRCm38.cdna.all.fa -a reference/Mus_musculus.GRCm38.97.gtf -o index/"
   ]
  },
  {
   "cell_type": "markdown",
   "metadata": {},
   "source": [
    "## 2. Run Salmon"
   ]
  },
  {
   "cell_type": "code",
   "execution_count": null,
   "metadata": {},
   "outputs": [],
   "source": [
    "salmon index -t index/gentrome.fa -i transcripts_index --decoys index/decoys.txt -k 31"
   ]
  },
  {
   "cell_type": "code",
   "execution_count": null,
   "metadata": {},
   "outputs": [],
   "source": [
    "salmon quant -i transcripts_index/ --libType A -r ~/data/mouse_brain_GSE100265/fastq/mRNA_SRP096017/SRR5144100_1.fastq --validateMappings -o output/SRR5144100"
   ]
  },
  {
   "cell_type": "code",
   "execution_count": null,
   "metadata": {},
   "outputs": [],
   "source": [
    "bash runSalmonForList.sh fastq_list_mRNA.txt ~/methods/salmon/output ~/methods/salmon/transcripts_index/"
   ]
  },
  {
   "cell_type": "markdown",
   "metadata": {},
   "source": [
    "### Mapping using Salmon also for sanity check (Cdr1as region)"
   ]
  },
  {
   "cell_type": "code",
   "execution_count": null,
   "metadata": {},
   "outputs": [],
   "source": [
    "bash ~/methods/salmon/generateDecoyTranscriptome.sh -g ~/methods/salmon/sanity_check/reference/mm10.fa -t ~/methods/salmon/sanity_check/reference/cdr1as.fa -a ~/methods/salmon/sanity_check/reference/cdr1as_location.gtf -o ~/methods/salmon/sanity_check/index"
   ]
  },
  {
   "cell_type": "code",
   "execution_count": null,
   "metadata": {},
   "outputs": [],
   "source": [
    "salmon index -t ~/methods/salmon/sanity_check/index/gentrome.fa -i ~/methods/salmon/sanity_check/transcripts_index --decoys ~/methods/salmon/sanity_check/index/decoys.txt -k 31"
   ]
  },
  {
   "cell_type": "code",
   "execution_count": null,
   "metadata": {},
   "outputs": [],
   "source": [
    "salmon quant -i ~/methods/salmon/sanity_check/transcripts_index/ --libType A -r ~/data/mouse_brain_GSE100265/fastq/mRNA_SRP096017/SRR5144100_1.fastq --validateMappings -o ~/methods/salmon/sanity_check/output/SRR5144100"
   ]
  },
  {
   "cell_type": "code",
   "execution_count": null,
   "metadata": {},
   "outputs": [],
   "source": [
    "bash ~/circRNA-detection/scripts/runSalmonForList.sh ~/circRNA-detection/scripts/fastq_list_mRNA.txt ~/methods/salmon/sanity_check/output/ ~/methods/salmon/sanity_check/transcripts_index/"
   ]
  }
 ],
 "metadata": {
  "kernelspec": {
   "display_name": "Python 3",
   "language": "python",
   "name": "python3"
  },
  "language_info": {
   "codemirror_mode": {
    "name": "ipython",
    "version": 2
   },
   "file_extension": ".py",
   "mimetype": "text/x-python",
   "name": "python",
   "nbconvert_exporter": "python",
   "pygments_lexer": "ipython2",
   "version": "2.7.16"
  }
 },
 "nbformat": 4,
 "nbformat_minor": 2
}
