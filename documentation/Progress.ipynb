{
 "cells": [
  {
   "cell_type": "code",
   "execution_count": null,
   "metadata": {},
   "outputs": [],
   "source": [
    "TopHat-Bowtie compatibility\n",
    "https://tophat2-and-bowtie-compatibility.readthedocs.io/en/latest/\n",
    "\n",
    "TopHat v2.0.9\n",
    "Bowtie2 v2.1.0\n",
    "Bowtie 1.0.0\n",
    "\n",
    "Download and install Tophat\n",
    "tar -xvzf tophat-2.0.9.Linux_x86_64.tar.gz\n",
    "mv tophat-2.0.9.Linux_x86_64/ /data/home/students/ciora/.conda/envs/oct_env/tophat-2.0.9/\n",
    "\n",
    "Download and install Bowtie2-.2.1.0\n",
    "https://sourceforge.net/projects/bowtie-bio/files/bowtie2/2.1.0/bowtie2-2.1.0-linux-x86_64.zip/download\n",
    "unzip bowtie2-2.1.0-linux-x86_64.zip\n",
    "mv bowtie2-2.1.0/ /data/home/students/ciora/.conda/envs/oct_env/bin/bowtie2-2.1.0/\n",
    "export PATH=/data/home/students/ciora/.conda/envs/oct_env/bin/bowtie2-2.1.0:$PATH\n",
    "    \n",
    "Download and install Bowtie-1.0.0\n",
    "https://sourceforge.net/projects/bowtie-bio/files/bowtie/1.0.0/\n",
    "unzip bowtie-1.0.0-linux-x86_64.zip\n",
    "mv bowtie-1.0.0/ /data/home/students/ciora/.conda/envs/oct_env/bin/bowtie-1.0.0/\n",
    "export PATH=/data/home/students/ciora/.conda/envs/oct_env/bin/bowtie-1.0.0/:$PATH\n",
    "\n",
    "       \n",
    "# index genome for Bowtie\n",
    "mkdir bowtie1_index\n",
    "cp mm10.fa bowtie1_index/\n",
    "bowtie-build mm10.fa bowtie1_index/mm10\n",
    "# index genome for Bowtie2\n",
    "mkdir bowtie2_index\n",
    "cp mm10.fa bowtie2_index/\n",
    "bowtie2-build mm10.fa bowtie2_index/mm10\n",
    "\n",
    "tophat2 -a 6 --microexon-search -m 2 -p 16 -G mm10_kg.gtf -o tophat_out bowtie2_index/mm10 SRR5720118_1.fastq\n",
    "# done ~ 2 hours\n",
    "bamToFastq -i tophat_out/unmapped.bam -fq tophat_out/unmapped.fastq\n",
    "tophat2 -o tophat_fusion -p 15 --fusion-search --keep-fasta-order --no-coverage-search bowtie2_ind\n",
    "ex/mm10 tophat_out/unmapped.fastq\n",
    "CIRCexplorer2 parse -t TopHat-Fusion tophat_fusion/accepted_hits.bam > CIRCexplorer2_parse.log\n",
    "CIRCexplorer2 annotate -r mm10_ref.txt -g mm10.fa -b back_spliced_junction.bed -o circularRNA_known.txt > CIRCexplorer2_annotate.log\n",
    "\n",
    "\n"
   ]
  }
 ],
 "metadata": {
  "kernelspec": {
   "display_name": "Python 3",
   "language": "python",
   "name": "python3"
  },
  "language_info": {
   "codemirror_mode": {
    "name": "ipython",
    "version": 2
   },
   "file_extension": ".py",
   "mimetype": "text/x-python",
   "name": "python",
   "nbconvert_exporter": "python",
   "pygments_lexer": "ipython2",
   "version": "2.7.16"
  }
 },
 "nbformat": 4,
 "nbformat_minor": 2
}
