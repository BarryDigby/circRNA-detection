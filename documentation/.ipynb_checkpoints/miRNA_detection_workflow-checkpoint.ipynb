{
 "cells": [
  {
   "cell_type": "markdown",
   "metadata": {},
   "source": [
    "# miRNA Detection using miRDeep2"
   ]
  },
  {
   "cell_type": "markdown",
   "metadata": {},
   "source": [
    "## 1. Installation"
   ]
  },
  {
   "cell_type": "markdown",
   "metadata": {},
   "source": [
    "Followed step by step tutorial: https://drmirdeep.github.io/mirdeep2_tutorial.html"
   ]
  },
  {
   "cell_type": "code",
   "execution_count": null,
   "metadata": {},
   "outputs": [],
   "source": [
    "git clone https://github.com/rajewsky-lab/mirdeep2.git\n",
    "git clone https://github.com/Drmirdeep/mirdeep2_patch.git\n",
    "cd mirdeep2\n",
    "perl install.pl\n",
    "miRDeep2.pl \n",
    "cd mirdeep2_patch\n",
    "bash patchme.sh"
   ]
  },
  {
   "cell_type": "markdown",
   "metadata": {},
   "source": [
    "$PATH should contain mirdeep2/bin before mirdeep_patch\n",
    "Download the miRBase reference files for version 22 (used the newest 22 instead of the old version 21 of the tutorial)"
   ]
  },
  {
   "cell_type": "code",
   "execution_count": null,
   "metadata": {},
   "outputs": [],
   "source": [
    "perl mirbase.pl 22"
   ]
  },
  {
   "cell_type": "markdown",
   "metadata": {},
   "source": [
    "This will download the hairpin.fa.gz and mature.fa.gz for version 22 to directory mirbase/22/\n",
    "If you want the gff files as well then you need to type"
   ]
  },
  {
   "cell_type": "code",
   "execution_count": null,
   "metadata": {},
   "outputs": [],
   "source": [
    "perl mirbase.pl 22 1"
   ]
  },
  {
   "cell_type": "markdown",
   "metadata": {},
   "source": [
    "Extract the mature sequences from the mirbase file downloaded before and get the hairpin sequences. I used mature miRNA information from rat(rno) and human (hsa), which should improve the performance, according to the tutorial."
   ]
  },
  {
   "cell_type": "code",
   "execution_count": null,
   "metadata": {},
   "outputs": [],
   "source": [
    "extract_miRNAs.pl ~/mirbase/22/mature.fa.gz mmu > mature_ref.fa\n",
    "extract_miRNAs.pl ~/mirbase/22/hairpin.fa.gz mmu > hairpin_ref.fa\n",
    "extract_miRNAs.pl ~/mirbase/22/mature.fa.gz rno,hsa > mature_other.fa"
   ]
  },
  {
   "cell_type": "markdown",
   "metadata": {},
   "source": [
    "In the next step, the small RNA sequencing adapter has to be clipped. According to the supplementary material TruSeq Small RNA\n",
    "Library Prep Kit (Illumina). Then searched the Illumina Website (https://support.illumina.com/bulletins/2016/12/what-sequences-do-i-use-for-adapter-trimming.html) for the corresponding adapter and came up to \n",
    "TruSeq Small RNA: TGGAATTCTCGGGTGCCAAGG\n",
    "Do a simple check to see how many of the sequences in a sample contain the adapter:"
   ]
  },
  {
   "cell_type": "code",
   "execution_count": null,
   "metadata": {},
   "outputs": [],
   "source": [
    "grep -c TGGAATTC SRR5144155_1.fastq"
   ]
  },
  {
   "cell_type": "markdown",
   "metadata": {},
   "source": [
    "## 2. Data preprocessing for novel miRNA prediction"
   ]
  },
  {
   "cell_type": "markdown",
   "metadata": {},
   "source": [
    "For novel miRNA prediction we need to map the reads against a reference database which has to be indexed by bowtie 1.\n",
    "\n",
    "For this I will take the indexes already built for the circRNA detection.\n",
    "Reference Database file: mm10.fa\n",
    "Index files: mm10.1.ebwt …\n",
    "\n",
    "The mapper.pl module will do preprocessing (adapter clipping,...) and mapping.\n",
    "\n",
    "Example command for first sample:"
   ]
  },
  {
   "cell_type": "code",
   "execution_count": null,
   "metadata": {},
   "outputs": [],
   "source": [
    "mapper.pl /nfs/home/students/ciora/data/mouse_brain_GSE100265/fastq/miRNA_SRP096019/SRR5144155_1.fastq -e -h -i -j -k TGGAATTC -l 18 -m -p /data/home/students/ciora/methods/miRDeep2/reference/mm10 -s /data/home/students/ciora/methods/miRDeep2/output/mapping/SRR5144155_1_reads_collapsed.fa -t /data/home/students/ciora/methods/miRDeep2/output/mapping/SRR5144155_1_reads_vs_ref.arf -v -o 4"
   ]
  },
  {
   "cell_type": "markdown",
   "metadata": {},
   "source": [
    "Use a script for all samples:"
   ]
  },
  {
   "cell_type": "code",
   "execution_count": null,
   "metadata": {},
   "outputs": [],
   "source": [
    "cd ~/methods/miRDeep2/output/\n",
    "bash  /nfs/home/students/ciora/circRNA-detection/scripts/preprocesing_miRNA_miRDeep2.sh"
   ]
  },
  {
   "cell_type": "markdown",
   "metadata": {},
   "source": [
    "## 3. Identification of known and novel miRNAs"
   ]
  },
  {
   "cell_type": "markdown",
   "metadata": {},
   "source": [
    "The module miRDeep2.pl will call all necessar modules for the identification step.\n",
    "\n",
    "Example command for first sample:"
   ]
  },
  {
   "cell_type": "code",
   "execution_count": null,
   "metadata": {},
   "outputs": [],
   "source": [
    "miRDeep2.pl /nfs/home/students/ciora/methods/miRDeep2/output/mapping/SRR5144155_1_reads_collapsed.fa /data/home/students/ciora/methods/miRDeep2/reference/mm10.fa /data/home/students/ciora/methods/miRDeep2/output/mapping/SRR5144155_1_reads_vs_ref.arf /data/home/students/ciora/methods/miRDeep2/reference/mature_ref.fa /data/home/students/ciora/methods/miRDeep2/reference/mature_other.fa /data/home/students/ciora/methods/miRDeep2/reference/hairpin_ref.fa -t mmu 2>/data/home/students/ciora/methods/miRDeep2/output/SRR5144155_report.log"
   ]
  },
  {
   "cell_type": "markdown",
   "metadata": {},
   "source": [
    "Use a script for more all samples:"
   ]
  },
  {
   "cell_type": "code",
   "execution_count": null,
   "metadata": {},
   "outputs": [],
   "source": [
    "cd ~/methods/miRDeep2/output/\n",
    "bash  /nfs/home/students/ciora/circRNA-detection/scripts/miRNA_identification_miRDeep2.sh 1 1"
   ]
  }
 ],
 "metadata": {
  "kernelspec": {
   "display_name": "Python 3",
   "language": "python",
   "name": "python3"
  },
  "language_info": {
   "codemirror_mode": {
    "name": "ipython",
    "version": 2
   },
   "file_extension": ".py",
   "mimetype": "text/x-python",
   "name": "python",
   "nbconvert_exporter": "python",
   "pygments_lexer": "ipython2",
   "version": "2.7.16"
  }
 },
 "nbformat": 4,
 "nbformat_minor": 2
}
