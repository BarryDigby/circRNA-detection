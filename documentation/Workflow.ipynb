{
 "cells": [
  {
   "cell_type": "markdown",
   "metadata": {},
   "source": [
    "# CIRCexplorer - conda environment (oct_env)\n",
    "https://circexplorer2.readthedocs.io/en/latest/tutorial/setup/#installation-and-setup"
   ]
  },
  {
   "cell_type": "markdown",
   "metadata": {},
   "source": [
    "## Get reference genome/files"
   ]
  },
  {
   "cell_type": "code",
   "execution_count": null,
   "metadata": {},
   "outputs": [],
   "source": [
    "fetch_ucsc.py mm10 ref mm10_ref.txt\n",
    "fetch_ucsc.py mm10 kg mm10_kg.txt\n",
    "fetch_ucsc.py mm10 fa mm10.fa\n",
    "cut -f2-11 mm10_ref.txt|./data/reference/genePredToGtf file stdin mm10_ref.gtf\n",
    "cut -f2-11 mm10_kg.txt|./data/reference/genePredToGtf file stdin mm10_kg.gtf"
   ]
  },
  {
   "cell_type": "markdown",
   "metadata": {},
   "source": [
    "## create Bowtie2 index files"
   ]
  },
  {
   "cell_type": "code",
   "execution_count": null,
   "metadata": {},
   "outputs": [],
   "source": [
    "bowtie2-build mm10.fa bowtie2_index\n",
    "# this creates the files bowtie2_index.<1-4>.bt2 and bowtie2_index.rev.<1-2>.bt2\n",
    "cp mm10.fa bowtie2_index.fa"
   ]
  },
  {
   "cell_type": "markdown",
   "metadata": {},
   "source": [
    "## download Boost.1.70.0\n",
    "https://www.boost.org/users/download/"
   ]
  },
  {
   "cell_type": "code",
   "execution_count": null,
   "metadata": {},
   "outputs": [],
   "source": [
    "./bootstrap\n",
    "./bjam --prefix=/usr/local/bin/ link=static runtime-link=static stage install"
   ]
  },
  {
   "cell_type": "markdown",
   "metadata": {},
   "source": [
    "## download Tophat-2.1.1 binary\n",
    "http://ccb.jhu.edu/software/tophat/downloads/\n",
    "change Shebang in tophat file from #/bin/usr/python to #/bin/usr/python2\n",
    "https://ccb.jhu.edu/software/tophat/tutorial.shtml"
   ]
  },
  {
   "cell_type": "code",
   "execution_count": null,
   "metadata": {},
   "outputs": [],
   "source": [
    "conda install -c bioconda tophat\n",
    "conda install -c bioconda bowtie\n",
    "conda install -c bioconda bowtie2"
   ]
  },
  {
   "cell_type": "code",
   "execution_count": null,
   "metadata": {},
   "outputs": [],
   "source": [
    "CIRCexplorer2 align -G data/reference/mm10_kg.gtf -g data/reference/mm10.fa -f data/mouse_brain_GSE100265/fastq/rRNA\n",
    "depleted_SRP109830/SRR5720118_1.fastq > CIRCexplorer2_align_SRR5720118_1.log\n"
   ]
  },
  {
   "cell_type": "markdown",
   "metadata": {},
   "source": [
    "#### Error: cannot map unmapped reads with TopHat-Fusion"
   ]
  },
  {
   "cell_type": "markdown",
   "metadata": {},
   "source": [
    "## Run tophat2"
   ]
  },
  {
   "cell_type": "code",
   "execution_count": null,
   "metadata": {},
   "outputs": [],
   "source": [
    "# first trial - just a test\n",
    "bash circRNA-detection/soft/tophat-2.1.1.Linux_x86_64/tophat2 -a 6 --microexon-search -m 2 -p 10 -G data/reference/mm10_kg.gtf -o tophat data/reference/bowtie2_index data/mouse_brain_GSE100265/fastq/rRNAdepleted_SRP109830/SRR5720118_1.fastq\n",
    "# second trial\n",
    "bash circRNA-detection/soft/tophat-2.1.1.Linux_x86_64/tophat2 -o tophat_output_SRR5720118 data/reference/bowtie2_index data/mouse_brain_GSE100265/fastq/rRNAdepleted_SRP109830/SRR5720118_1.fastq"
   ]
  },
  {
   "cell_type": "markdown",
   "metadata": {},
   "source": [
    "## Test TopHat and Bowtie installation with test_data\n",
    "#Works fine\n",
    "test_ref.1.bt2\n",
    "test_ref.2.bt2\n",
    "test_ref.3.bt2\n",
    "test_ref.4.bt2\n",
    "test_ref.rev.1.bt2\n",
    "test_ref.rev.2.bt2\n",
    "\n",
    "test_ref.1.ebwt\n",
    "test_ref.2.ebwt\n",
    "test_ref.rev.1.ebwt\n",
    "test_ref.rev.2.ebwt\n",
    "\n",
    "test_ref.fa"
   ]
  },
  {
   "cell_type": "code",
   "execution_count": null,
   "metadata": {},
   "outputs": [],
   "source": [
    "/data/home/students/ciora/test_data$ tophat -r 20 test_ref reads_1.fq reads_2.fq"
   ]
  },
  {
   "cell_type": "markdown",
   "metadata": {},
   "source": [
    "## Manually aligning one Fastq file"
   ]
  },
  {
   "cell_type": "markdown",
   "metadata": {},
   "source": [
    "Testing\n",
    "~/testing\n",
    "bowtie1_index\n",
    "bowtie2_index\n",
    "mm10.fa\n",
    "mm10_kg.gtf\n",
    "SRR5720118_1.fastq"
   ]
  },
  {
   "cell_type": "code",
   "execution_count": null,
   "metadata": {},
   "outputs": [],
   "source": [
    "# 3759.pts-1.alfred\n",
    "# index genome for Bowtie\n",
    "bowtie-build mm10.fa bowtie1_index/mm10\n"
   ]
  },
  {
   "cell_type": "code",
   "execution_count": null,
   "metadata": {},
   "outputs": [],
   "source": [
    "# 9695.pts-7.alfred\n",
    "# index genome for Bowtie2\n",
    "bowtie2-build mm10.fa bowtie2_index/mm10"
   ]
  },
  {
   "cell_type": "code",
   "execution_count": null,
   "metadata": {},
   "outputs": [],
   "source": [
    "tophat2 -a 6 --microexon-search -m 2 -p 10 -G mm10_kg.gtf -o tophat_out bowtie2_index/mm10 SRR5720118_1.fastq\n",
    "# done ~ 2 hours"
   ]
  },
  {
   "cell_type": "markdown",
   "metadata": {},
   "source": [
    "Input: 19900102\n",
    "Mapped: 17130031 (86.1% of input)\n",
    "of these: 624706 ( 3.6%) have multiple alignments (1166 have >20)\n",
    "86.1% overall read mapping rate."
   ]
  },
  {
   "cell_type": "code",
   "execution_count": null,
   "metadata": {},
   "outputs": [],
   "source": [
    "bamToFastq -i tophat_out/unmapped.bam -fq tophat_out/unmapped.fastq"
   ]
  },
  {
   "cell_type": "code",
   "execution_count": null,
   "metadata": {},
   "outputs": [],
   "source": [
    "tophat2 -o tophat_fusion -p 15 --fusion-search --keep-fasta-order --bowtie1 --no-coverage-search bowtie1_index/mm10 tophat_out/unmapped.fastq"
   ]
  },
  {
   "cell_type": "code",
   "execution_count": null,
   "metadata": {},
   "outputs": [],
   "source": [
    "[2019-06-23 21:05:06] Beginning TopHat run (v2.1.1)\n",
    "-----------------------------------------------\n",
    "[2019-06-23 21:05:06] Checking for Bowtie\n",
    "                  Bowtie version:        1.2.2.0\n",
    "[2019-06-23 21:05:06] Checking for Bowtie index files (genome)..\n",
    "[2019-06-23 21:05:06] Checking for reference FASTA file\n",
    "[2019-06-23 21:05:06] Generating SAM header for bowtie1_index/mm10\n",
    "[2019-06-23 21:05:08] Preparing reads\n",
    "         left reads: min. length=35, max. length=151, 2752055 kept reads (18016 discarded)\n",
    "[2019-06-23 21:06:10] Mapping left_kept_reads to genome mm10 with Bowtie\n",
    "        [FAILED]\n",
    "Error running bowtie:\n",
    "Error while flushing and closing output\n",
    "terminate called after throwing an instance of 'int'"
   ]
  },
  {
   "cell_type": "markdown",
   "metadata": {},
   "source": [
    "last step with bowtie2 instead of bowtie1"
   ]
  },
  {
   "cell_type": "code",
   "execution_count": null,
   "metadata": {},
   "outputs": [],
   "source": [
    "tophat2 -o tophat_fusion -p 15 --fusion-search --keep-fasta-order --no-coverage-search bowtie2_ind\n",
    "ex/mm10 tophat_out/unmapped.fastq"
   ]
  },
  {
   "cell_type": "code",
   "execution_count": null,
   "metadata": {},
   "outputs": [],
   "source": [
    "[2019-06-23 23:04:20] Reporting output tracks\n",
    "        [FAILED]\n",
    "Error running /data/home/students/ciora/.conda/envs/oct_env/bin/tophat_reports --min-anchor 8 --splice-mismatches 0 --min-report-intron 50 --max-report-intron 500000 --min-isoform-fraction 0.15 --output-dir tophat_fusion/ --max-multihits 20 --max-seg-multihits 40 --segment-length 25 --segment-mismatches 2 --min-closure-exon 100 --min-closure-intron 50 --max-closure-intron 5000 --min-coverage-intron 50 --max-coverage-intron 20000 --min-segment-intron 50 --max-segment-intron 500000 --read-mismatches 2 --read-gap-length 2 --read-edit-dist 2 --read-realign-edit-dist 3 --max-insertion-length 3 --max-deletion-length 3 --fusion-search --fusion-anchor-length 20 --fusion-min-dist 10000000 --fusion-read-mismatches 2 --fusion-multireads 2 --fusion-multipairs 2 -z gzip -p15 --no-closure-search --no-coverage-search --no-microexon-search --sam-header tophat_fusion/tmp/mm10_genome.bwt.samheader.sam --report-discordant-pair-alignments --report-mixed-alignments --samtools=/data/home/students/ciora/.conda/envs/oct_env/bin/samtools_0.1.18 --bowtie2-max-penalty 6 --bowtie2-min-penalty 2 --bowtie2-penalty-for-N 1 --bowtie2-read-gap-open 5 --bowtie2-read-gap-cont 3 --bowtie2-ref-gap-open 5 --bowtie2-ref-gap-cont 3 bowtie2_index/mm10.fa tophat_fusion/junctions.bed tophat_fusion/insertions.bed tophat_fusion/deletions.bed tophat_fusion/fusions.out tophat_fusion/tmp/accepted_hits tophat_fusion/tmp/left_kept_reads.mapped.bam,tophat_fusion/tmp/left_kept_reads.candidates tophat_fusion/tmp/left_kept_reads.bam\n",
    "./SeqAn-1.4.2/seqan/basic/basic_exception.h:236 FAILED!  (Uncaught exception of type St12out_of_range: basic_string::substr)"
   ]
  },
  {
   "cell_type": "code",
   "execution_count": null,
   "metadata": {},
   "outputs": [],
   "source": [
    "conda install -c bioconda tophat=2.1.0\n",
    "conda install -c bioconda bowtie2=2.2.1"
   ]
  },
  {
   "cell_type": "code",
   "execution_count": null,
   "metadata": {},
   "outputs": [],
   "source": [
    "tophat2 -o tophat_fusion -p 15 --fusion-search --keep-fasta-order --no-coverage-search bowtie2_ind\n",
    "ex/mm10 tophat_out/unmapped.fastq"
   ]
  },
  {
   "cell_type": "code",
   "execution_count": null,
   "metadata": {},
   "outputs": [],
   "source": [
    "Warning: --fusion-search with Bowtie2 may not work well as it may require much memory space and produce many spurious fusions.  Please try --bowtie1 option if this doesn't work.\n",
    "\n",
    "[2019-06-23 23:15:13] Beginning TopHat run (v2.1.0)\n",
    "-----------------------------------------------\n",
    "[2019-06-23 23:15:13] Checking for Bowtie\n",
    "                  Bowtie version:        2.2.1.0"
   ]
  },
  {
   "cell_type": "code",
   "execution_count": null,
   "metadata": {},
   "outputs": [],
   "source": [
    "Reads:\n",
    "Input:   2770071\n",
    "Mapped:    469621 (17.0% of input)\n",
    "of these:     42610 ( 9.1%) have multiple alignments (219 have >20)\n",
    "17.0% overall read mapping rate."
   ]
  },
  {
   "cell_type": "code",
   "execution_count": null,
   "metadata": {},
   "outputs": [],
   "source": [
    "CIRCexplorer2 parse -t TopHat-Fusion tophat_fusion/accepted_hits.bam > CIRCexplorer2_parse.log"
   ]
  },
  {
   "cell_type": "code",
   "execution_count": null,
   "metadata": {},
   "outputs": [],
   "source": [
    "CIRCexplorer2 annotate -r mm10_ref.txt -g mm10.fa -b back_spliced_junction.bed -o circularRNA_known.txt > CIRCexplorer2_annotate.log"
   ]
  },
  {
   "cell_type": "markdown",
   "metadata": {},
   "source": [
    "### This worked!"
   ]
  },
  {
   "cell_type": "markdown",
   "metadata": {},
   "source": [
    "# Circtools - venv environment (py2_env)\n",
    "https://docs.circ.tools/en/latest/Detect.html\n",
    "virtualenv --python=/usr/bin/python2.7 py2_env\n",
    "source py2_env/bin/activate"
   ]
  },
  {
   "cell_type": "code",
   "execution_count": null,
   "metadata": {},
   "outputs": [],
   "source": [
    "git clone https://github.com/dieterich-lab/circtools.git\n",
    "cd circtools\n",
    "pip install . install --verbose --user"
   ]
  },
  {
   "cell_type": "markdown",
   "metadata": {},
   "source": [
    "(py2_env) (oct_env) pip3 install circtools --user\n",
    "installed circtools, installed DCC"
   ]
  },
  {
   "cell_type": "markdown",
   "metadata": {},
   "source": [
    "### install STAR\n",
    "conda install -c bioconda star\n",
    "STAR_2.6.1a_08-27"
   ]
  },
  {
   "cell_type": "markdown",
   "metadata": {},
   "source": [
    "### build STAR index files"
   ]
  },
  {
   "cell_type": "code",
   "execution_count": null,
   "metadata": {},
   "outputs": [],
   "source": [
    "# 37461.pts-1.alfred\n",
    "STAR --runThreadN 16 --runMode genomeGenerate --genomeDir circtools_method/star/star_index_mm10/ --genomeFastaFiles data/reference/mm10.fa --sjdbGTFfile data/reference/mm10_ref.gtf"
   ]
  },
  {
   "cell_type": "code",
   "execution_count": null,
   "metadata": {},
   "outputs": [],
   "source": [
    "Jun 24 14:37:51 ..... started STAR run\n",
    "Jun 24 14:37:51 ... starting to generate Genome files\n",
    "Jun 24 14:39:09 ... starting to sort Suffix Array. This may take a long time...\n",
    "Jun 24 14:39:45 ... sorting Suffix Array chunks and saving them to disk...\n",
    "Jun 24 14:55:47 ... loading chunks from disk, packing SA...\n",
    "Jun 24 14:57:21 ... finished generating suffix array\n",
    "Jun 24 14:57:21 ... generating Suffix Array index\n",
    "Jun 24 15:03:06 ... completed Suffix Array index\n",
    "Jun 24 15:03:06 ..... processing annotations GTF\n",
    "Jun 24 15:03:10 ..... inserting junctions into the genome indices\n",
    "Jun 24 15:06:04 ... writing Genome to disk ...\n",
    "Jun 24 15:06:09 ... writing Suffix Array to disk ...\n",
    "Jun 24 15:06:57 ... writing SAindex to disk\n",
    "Jun 24 15:07:01 ..... finished successfully"
   ]
  },
  {
   "cell_type": "markdown",
   "metadata": {},
   "source": [
    "### Mapping with STAR"
   ]
  },
  {
   "cell_type": "code",
   "execution_count": null,
   "metadata": {},
   "outputs": [],
   "source": [
    "STAR --runThreadN 16 --genomeDir ~/circtools_method/star/star_index_mm10/ --readFilesIn data/sample1/SRR5720118_1.fastq --outFileNamePrefix SRR5720118_1 --chimOutType Junctions\n",
    "SeparateSAMold --sjdbGTFfile ~/data/reference/mm10_ref.gtf"
   ]
  },
  {
   "cell_type": "markdown",
   "metadata": {},
   "source": [
    "# Keep processes running"
   ]
  },
  {
   "cell_type": "code",
   "execution_count": null,
   "metadata": {},
   "outputs": [],
   "source": [
    "screen # start process\n",
    "ctrl+A ctrl+D # deattach\n",
    "screen -r # resume"
   ]
  },
  {
   "cell_type": "code",
   "execution_count": null,
   "metadata": {},
   "outputs": [],
   "source": []
  }
 ],
 "metadata": {
  "kernelspec": {
   "display_name": "Python 3",
   "language": "python",
   "name": "python3"
  },
  "language_info": {
   "codemirror_mode": {
    "name": "ipython",
    "version": 2
   },
   "file_extension": ".py",
   "mimetype": "text/x-python",
   "name": "python",
   "nbconvert_exporter": "python",
   "pygments_lexer": "ipython2",
   "version": "2.7.16"
  }
 },
 "nbformat": 4,
 "nbformat_minor": 2
}
