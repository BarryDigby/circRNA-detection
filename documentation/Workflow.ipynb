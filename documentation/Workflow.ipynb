{
 "cells": [
  {
   "cell_type": "markdown",
   "metadata": {},
   "source": [
    "# CIRCexplorer - conda environment (oct_env)\n",
    "https://circexplorer2.readthedocs.io/en/latest/tutorial/setup/#installation-and-setup"
   ]
  },
  {
   "cell_type": "markdown",
   "metadata": {},
   "source": [
    "## Get reference genome/files"
   ]
  },
  {
   "cell_type": "code",
   "execution_count": null,
   "metadata": {},
   "outputs": [],
   "source": [
    "fetch_ucsc.py mm10 ref mm10_ref.txt\n",
    "fetch_ucsc.py mm10 kg mm10_kg.txt\n",
    "fetch_ucsc.py mm10 fa mm10.fa\n",
    "cut -f2-11 mm10_ref.txt|./data/reference/genePredToGtf file stdin mm10_ref.gtf\n",
    "cut -f2-11 mm10_kg.txt|./data/reference/genePredToGtf file stdin mm10_kg.gtf"
   ]
  },
  {
   "cell_type": "markdown",
   "metadata": {},
   "source": [
    "## create Bowtie2 index files"
   ]
  },
  {
   "cell_type": "code",
   "execution_count": null,
   "metadata": {},
   "outputs": [],
   "source": [
    "bowtie2-build mm10.fa bowtie2_index\n",
    "# this creates the files bowtie2_index.<1-4>.bt2 and bowtie2_index.rev.<1-2>.bt2\n",
    "cp mm10.fa bowtie2_index.fa"
   ]
  },
  {
   "cell_type": "markdown",
   "metadata": {},
   "source": [
    "## download Boost.1.70.0\n",
    "https://www.boost.org/users/download/"
   ]
  },
  {
   "cell_type": "code",
   "execution_count": null,
   "metadata": {},
   "outputs": [],
   "source": [
    "./bootstrap\n",
    "./bjam --prefix=/usr/local/bin/ link=static runtime-link=static stage install"
   ]
  },
  {
   "cell_type": "markdown",
   "metadata": {},
   "source": [
    "## download Tophat-2.1.1 binary\n",
    "http://ccb.jhu.edu/software/tophat/downloads/\n",
    "change Shebang in tophat file from #/bin/usr/python to #/bin/usr/python2\n",
    "https://ccb.jhu.edu/software/tophat/tutorial.shtml"
   ]
  },
  {
   "cell_type": "code",
   "execution_count": null,
   "metadata": {},
   "outputs": [],
   "source": []
  },
  {
   "cell_type": "code",
   "execution_count": null,
   "metadata": {},
   "outputs": [],
   "source": []
  },
  {
   "cell_type": "code",
   "execution_count": null,
   "metadata": {},
   "outputs": [],
   "source": []
  },
  {
   "cell_type": "markdown",
   "metadata": {},
   "source": [
    "## Run tophat2"
   ]
  },
  {
   "cell_type": "code",
   "execution_count": null,
   "metadata": {},
   "outputs": [],
   "source": [
    "# first trial - just a test\n",
    "bash circRNA-detection/soft/tophat-2.1.1.Linux_x86_64/tophat2 -a 6 --microexon-search -m 2 -p 10 -G data/reference/mm10_kg.gtf -o tophat data/reference/bowtie2_index data/mouse_brain_GSE100265/fastq/rRNAdepleted_SRP109830/SRR5720118_1.fastq\n",
    "# second trial\n",
    "bash circRNA-detection/soft/tophat-2.1.1.Linux_x86_64/tophat2 -o tophat_output_SRR5720118 data/reference/bowtie2_index data/mouse_brain_GSE100265/fastq/rRNAdepleted_SRP109830/SRR5720118_1.fastq"
   ]
  },
  {
   "cell_type": "code",
   "execution_count": null,
   "metadata": {},
   "outputs": [],
   "source": []
  },
  {
   "cell_type": "markdown",
   "metadata": {},
   "source": [
    "# Circtools - venv environment (py2_env)\n",
    "virtualenv --python=/usr/bin/python2.7 py2_env\n",
    "source py2_env/bin/activate"
   ]
  },
  {
   "cell_type": "code",
   "execution_count": null,
   "metadata": {},
   "outputs": [],
   "source": [
    "git clone https://github.com/dieterich-lab/circtools.git\n",
    "cd circtools\n",
    "pip install . install --verbose --user"
   ]
  },
  {
   "cell_type": "code",
   "execution_count": null,
   "metadata": {},
   "outputs": [],
   "source": []
  },
  {
   "cell_type": "code",
   "execution_count": null,
   "metadata": {},
   "outputs": [],
   "source": []
  },
  {
   "cell_type": "code",
   "execution_count": null,
   "metadata": {},
   "outputs": [],
   "source": []
  },
  {
   "cell_type": "code",
   "execution_count": null,
   "metadata": {},
   "outputs": [],
   "source": []
  },
  {
   "cell_type": "markdown",
   "metadata": {},
   "source": [
    "# Keep processes running"
   ]
  },
  {
   "cell_type": "code",
   "execution_count": null,
   "metadata": {},
   "outputs": [],
   "source": [
    "screen # start process\n",
    "ctrl+A ctrl+D # deattach\n",
    "screen -r # resume"
   ]
  },
  {
   "cell_type": "code",
   "execution_count": null,
   "metadata": {},
   "outputs": [],
   "source": []
  }
 ],
 "metadata": {
  "kernelspec": {
   "display_name": "Python 3",
   "language": "python",
   "name": "python3"
  },
  "language_info": {
   "codemirror_mode": {
    "name": "ipython",
    "version": 3
   },
   "file_extension": ".py",
   "mimetype": "text/x-python",
   "name": "python",
   "nbconvert_exporter": "python",
   "pygments_lexer": "ipython3",
   "version": "3.6.8"
  }
 },
 "nbformat": 4,
 "nbformat_minor": 2
}
