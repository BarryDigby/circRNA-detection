{
 "cells": [
  {
   "cell_type": "markdown",
   "metadata": {},
   "source": [
    "# Binding sites detection"
   ]
  },
  {
   "cell_type": "markdown",
   "metadata": {},
   "source": [
    "#### Interesting papers:\n",
    "https://www.ncbi.nlm.nih.gov/pmc/articles/PMC3182075/\n",
    "\n",
    "https://www.ncbi.nlm.nih.gov/pmc/articles/PMC5187787/#B64-ijms-17-01987"
   ]
  },
  {
   "cell_type": "markdown",
   "metadata": {},
   "source": [
    "### Prepare circRNA data"
   ]
  },
  {
   "cell_type": "markdown",
   "metadata": {},
   "source": [
    "Prepare input for miRanda. \n",
    "1.\tTake detected circRNA output from circExplorer2. Filter data by two criteria. Convert all counts <= 5 to 0. Keep only circRNAs which have counts in minimum 3 samples.\n",
    "2.\tGet fasta sequences for all circRNA. Use samtools faidx to extract the fasta sequences of the circRNA from the mm10.fa reference genome fasta file. Compute the reverse complement in case of negative strand. Run a script to compute the sequences for all circRNAs:\n"
   ]
  },
  {
   "cell_type": "code",
   "execution_count": null,
   "metadata": {},
   "outputs": [],
   "source": [
    "bash ~/circRNA-detection/scripts/get_circRNA_sequences.sh"
   ]
  },
  {
   "cell_type": "markdown",
   "metadata": {},
   "source": [
    "### Download miRanda\n",
    "Download and install miRanda following manual:\n",
    "\n",
    "http://www.microrna.org/microrna/getDownloads.do\n",
    "\n",
    "http://www.microrna.org/microrna/faq.do#question8anchor"
   ]
  },
  {
   "cell_type": "markdown",
   "metadata": {},
   "source": [
    "### Run miRanda\n",
    "Run miRanda for all combinations between miRNAs and circRNA targets."
   ]
  },
  {
   "cell_type": "code",
   "execution_count": null,
   "metadata": {},
   "outputs": [],
   "source": [
    "~/methods/miRanda/miRanda_aug_2010/bin/miranda ~/methods/miRanda/reference/mature_ref.fa ~/methods/miRanda/input/circRNA.fa -out ~/methods/miRanda/output/circRNA_bind_sites.out -quiet"
   ]
  },
  {
   "cell_type": "markdown",
   "metadata": {},
   "source": [
    "### Process output"
   ]
  },
  {
   "cell_type": "code",
   "execution_count": null,
   "metadata": {},
   "outputs": [],
   "source": [
    "echo \"miRNA Target  Score Energy-Kcal/Mol Query-Aln(start-end) Subject-Al(Start-End) Al-Len Subject-Identity Query-Identity\" > ~/methods/miRanda/output/circRNA_bind_sites_results.txt"
   ]
  },
  {
   "cell_type": "code",
   "execution_count": null,
   "metadata": {},
   "outputs": [],
   "source": [
    "grep -A 1 \"Scores for this hit:\" ~/methods/miRanda/output/circRNA_bind_sites.out | sort | grep \">\" | cut -c 2- >> ~/methods/miRanda/output/circRNA_bind_sites_results.txt"
   ]
  }
 ],
 "metadata": {
  "kernelspec": {
   "display_name": "Python 3",
   "language": "python",
   "name": "python3"
  },
  "language_info": {
   "codemirror_mode": {
    "name": "ipython",
    "version": 2
   },
   "file_extension": ".py",
   "mimetype": "text/x-python",
   "name": "python",
   "nbconvert_exporter": "python",
   "pygments_lexer": "ipython2",
   "version": "2.7.16"
  }
 },
 "nbformat": 4,
 "nbformat_minor": 2
}
