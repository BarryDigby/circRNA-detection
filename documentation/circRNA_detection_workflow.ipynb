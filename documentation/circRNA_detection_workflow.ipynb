{
 "cells": [
  {
   "cell_type": "markdown",
   "metadata": {},
   "source": [
    "# circRNA detection using CIRCexplorer2\n",
    "https://circexplorer2.readthedocs.io/en/latest/tutorial/setup/#installation-and-setup"
   ]
  },
  {
   "cell_type": "markdown",
   "metadata": {},
   "source": [
    "## Installation"
   ]
  },
  {
   "cell_type": "markdown",
   "metadata": {},
   "source": [
    "Circexplorer2=2.3.6\n",
    "\n",
    "TopHat-Bowtie compatibility:\n",
    "https://tophat2-and-bowtie-compatibility.readthedocs.io/en/latest/\n",
    "\n",
    "Required versions that are compatible with each other:\n",
    "* Bowtie 1.0.0\n",
    "* Bowtie2 v2.1.0\n",
    "* TopHat v2.0.9"
   ]
  },
  {
   "cell_type": "markdown",
   "metadata": {},
   "source": [
    "Download and install Bowtie-1.0.0"
   ]
  },
  {
   "cell_type": "code",
   "execution_count": null,
   "metadata": {},
   "outputs": [],
   "source": [
    "wget --default-page=bowtie-1.0.0-linux-x86_64.zip https://sourceforge.net/projects/bowtie-bio/files/bowtie/1.0.0/bowtie-1.0.0-linux-x86_64.zip\n",
    "unzip bowtie-1.0.0-linux-x86_64.zip\n",
    "mv bowtie-1.0.0/ /data/home/students/ciora/.conda/envs/oct_env/bin/bowtie-1.0.0/\n",
    "export PATH=/data/home/students/ciora/.conda/envs/oct_env/bin/bowtie-1.0.0/:$PATH"
   ]
  },
  {
   "cell_type": "markdown",
   "metadata": {},
   "source": [
    "Download and install Bowtie2-.2.1.0:"
   ]
  },
  {
   "cell_type": "code",
   "execution_count": null,
   "metadata": {},
   "outputs": [],
   "source": [
    "wget --default-page=bowtie2-2.3.4.1-linux-x86_64.zip https://sourceforge.net/projects/bowtie-bio/files/bowtie2/2.1.0/bowtie2-2.1.0-linux-x86_64.zip\n",
    "unzip bowtie2-2.1.0-linux-x86_64.zip\n",
    "mv bowtie2-2.1.0/ /data/home/students/ciora/.conda/envs/oct_env/bin/bowtie2-2.1.0/\n",
    "export PATH=/data/home/students/ciora/.conda/envs/oct_env/bin/bowtie2-2.1.0:$PATH"
   ]
  },
  {
   "cell_type": "code",
   "execution_count": null,
   "metadata": {},
   "outputs": [],
   "source": [
    "Download and install Tophat2-2.0.9"
   ]
  },
  {
   "cell_type": "code",
   "execution_count": null,
   "metadata": {},
   "outputs": [],
   "source": [
    "wget https://ccb.jhu.edu/software/tophat/downloads/tophat-2.0.9.Linux_x86_64.tar.gz\n",
    "tar -xvzf tophat-2.0.9.Linux_x86_64.tar.gz\n",
    "mv tophat-2.0.9.Linux_x86_64/ /nfs/home/students/ciora/.conda/envs/oct_env/tophat-2.0.9/\n",
    "export PATH=$PATH:/bin/tophat-2.0.9.Linux_x86_64"
   ]
  },
  {
   "cell_type": "markdown",
   "metadata": {},
   "source": [
    "Install CIRCExplorer2"
   ]
  },
  {
   "cell_type": "code",
   "execution_count": null,
   "metadata": {},
   "outputs": [],
   "source": [
    "conda install -c bioconda circexplorer2=2.3.6 --yes"
   ]
  },
  {
   "cell_type": "markdown",
   "metadata": {},
   "source": [
    "## Get reference genome/files"
   ]
  },
  {
   "cell_type": "markdown",
   "metadata": {},
   "source": [
    "Get reference fasta file for species mmu (mouse). Use genePredToGtf from UCSC Utilities (http://hgdownload.soe.ucsc.edu/admin/exe/)"
   ]
  },
  {
   "cell_type": "code",
   "execution_count": null,
   "metadata": {},
   "outputs": [],
   "source": [
    "fetch_ucsc.py mm10 fa mm10.fa\n",
    "fetch_ucsc.py mm10 ref mm10_ref.txt\n",
    "fetch_ucsc.py mm10 kg mm10_kg.txt\n",
    "cut -f2-11 mm10_ref.txt|./data/reference/genePredToGtf file stdin mm10_ref.gtf\n",
    "cut -f2-11 mm10_kg.txt|./data/reference/genePredToGtf file stdin mm10_kg.gtf"
   ]
  },
  {
   "cell_type": "markdown",
   "metadata": {},
   "source": [
    "## Prepare input"
   ]
  },
  {
   "cell_type": "markdown",
   "metadata": {},
   "source": [
    "Prepare bowtie index:"
   ]
  },
  {
   "cell_type": "code",
   "execution_count": null,
   "metadata": {},
   "outputs": [],
   "source": [
    "bowtie-build mm10.fa bowtie1_index/mm10\n",
    "bowtie2-build mm10.fa bowtie2_index/mm10\n",
    "cp mm10.fa bowtie1_index/mm10.fa\n",
    "cp mm10.fa bowtie2_index/mm10.fa"
   ]
  },
  {
   "cell_type": "markdown",
   "metadata": {},
   "source": [
    "## Run circRNA detection"
   ]
  },
  {
   "cell_type": "code",
   "execution_count": null,
   "metadata": {},
   "outputs": [],
   "source": [
    "tophat2 -a 6 --microexon-search -m 2 -p 16 -G mm10_kg.gtf -o tophat_out bowtie2_index/mm10 SRR5720118_1.fastq\n",
    "bamToFastq -i tophat_out/unmapped.bam -fq tophat_out/unmapped.fastq\n",
    "\n",
    "tophat2 -o tophat_fusion -p 15 --fusion-search --keep-fasta-order --no-coverage-search bowtie2_ind\n",
    "ex/mm10 tophat_out/unmapped.fastq\n",
    "\n",
    "CIRCexplorer2 parse -t TopHat-Fusion tophat_fusion/accepted_hits.bam > CIRCexplorer2_parse.log\n",
    "\n",
    "CIRCexplorer2 annotate -r mm10_ref.txt -g mm10.fa -b back_spliced_junction.bed -o circularRNA_known.txt > CIRCexplorer2_annotate.log"
   ]
  },
  {
   "cell_type": "markdown",
   "metadata": {},
   "source": [
    "### Keep processes running"
   ]
  },
  {
   "cell_type": "code",
   "execution_count": null,
   "metadata": {},
   "outputs": [],
   "source": [
    "screen # start process\n",
    "ctrl+A ctrl+D # deattach\n",
    "screen -r # resume"
   ]
  }
 ],
 "metadata": {
  "kernelspec": {
   "display_name": "Python 3",
   "language": "python",
   "name": "python3"
  },
  "language_info": {
   "codemirror_mode": {
    "name": "ipython",
    "version": 2
   },
   "file_extension": ".py",
   "mimetype": "text/x-python",
   "name": "python",
   "nbconvert_exporter": "python",
   "pygments_lexer": "ipython2",
   "version": "2.7.16"
  }
 },
 "nbformat": 4,
 "nbformat_minor": 2
}
